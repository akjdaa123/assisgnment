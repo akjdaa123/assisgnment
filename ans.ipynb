{
 "cells": [
  {
   "cell_type": "markdown",
   "metadata": {},
   "source": [
    "### 1.1 Extract Information From Your Own Transaction"
   ]
  },
  {
   "cell_type": "code",
   "execution_count": null,
   "metadata": {},
   "outputs": [],
   "source": [
    "import requests\n",
    "import datetime\n",
    "import json\n",
    "\n",
    "# '826534' is the block height\n",
    "block_height = 826534\n",
    "url = f'https://api.whatsonchain.com/v1/bsv/main/block/height/{block_height}'\n",
    "\n",
    "response = requests.get(url)\n",
    "block_data = response.json()\n",
    "\n",
    "# Extracting\n",
    "txcount = block_data['txcount']\n",
    "time = block_data['time']\n",
    "totalFees = block_data['totalFees']\n",
    "confirmations = block_data['confirmations']\n",
    "miner = block_data['miner']\n",
    "\n",
    "# Convert the Unix timestamp\n",
    "timestamp = datetime.datetime.fromtimestamp(time).strftime('%Y-%m-%d %H:%M:%S')\n",
    "\n",
    "# Print the data in JSON format\n",
    "print(json.dumps({\n",
    "    'txcount': txcount,\n",
    "    'time': timestamp,\n",
    "    'totalFees': totalFees,\n",
    "    'confirmations': confirmations,\n",
    "    'miner': miner\n",
    "}, indent=4))"
   ]
  },
  {
   "cell_type": "markdown",
   "metadata": {},
   "source": [
    "#### Here's what each of these parts of the block represents:\n",
    "\n",
    "**txcount:** This is the number of transactions included in the block. Each transaction represents a transfer of BSV (Bitcoin Satoshi Vision) from one account to another.\n",
    "\n",
    "**time:** This is the Unix timestamp for when the block was mined. It indicates the moment the block was added to the blockchain. The code converts this timestamp into a human-readable date and time format.\n",
    "\n",
    "**totalFees:** This is the total amount of fees collected by the miner for including transactions in this block. Users pay transaction fees as an incentive for miners to include their transactions in blocks.\n",
    "\n",
    "**confirmations:** This number indicates how many blocks have been added to the blockchain since the block in question was mined. The more confirmations there are, the more secure the transaction is considered to be.\n",
    "\n",
    "**miner:** This refers to the identifier of the miner or mining pool that successfully mined this block. It is usually a representation of the miner's address or a name if the mining pool has one."
   ]
  },
  {
   "cell_type": "markdown",
   "metadata": {},
   "source": [
    "### 2.1 Obtain Time Series Data"
   ]
  },
  {
   "cell_type": "code",
   "execution_count": null,
   "metadata": {},
   "outputs": [],
   "source": [
    "import yfinance as yf\n",
    "import pandas_datareader.data as web\n",
    "import matplotlib.pyplot as plt\n",
    "import datetime\n",
    "\n",
    "\n",
    "end_date = datetime.datetime.now()\n",
    "start_date = end_date - datetime.timedelta(days=365)\n",
    "\n",
    "# High-risk asset: Bitcoin\n",
    "btc = yf.download('BTC-USD', start=start_date, end=end_date)\n",
    "# Low-risk asset: Gold price index\n",
    "gold = web.DataReader('ID7108', 'fred', start=start_date, end=end_date)\n",
    "# Overall stock market performance: S&P 500\n",
    "sp500 = yf.download('^GSPC', start=start_date, end=end_date)\n",
    "\n",
    "plt.figure(figsize=(14,7))\n",
    "\n",
    "# Plot Bitcoin prices\n",
    "plt.subplot(3, 1, 1)\n",
    "plt.plot(btc['Close'], label='Bitcoin (BTC)')\n",
    "plt.title('Bitcoin Price')\n",
    "plt.ylabel('Price (USD)')\n",
    "plt.xlabel('Date')\n",
    "plt.legend()\n",
    "\n",
    "# Plot Gold prices\n",
    "plt.subplot(3, 1, 2)\n",
    "plt.plot(gold, label='Gold Price Index (ID7108)')\n",
    "plt.title('Gold Price Index')\n",
    "plt.ylabel('Index Value')\n",
    "plt.xlabel('Date')\n",
    "plt.legend()\n",
    "\n",
    "# Plot S&P 500 prices\n",
    "plt.subplot(3, 1, 3)\n",
    "plt.plot(sp500['Close'], label='S&P 500')\n",
    "plt.title('S&P 500 Index')\n",
    "plt.ylabel('Index Value')\n",
    "plt.xlabel('Date')\n",
    "plt.legend()\n",
    "\n",
    "\n",
    "plt.tight_layout()\n",
    "plt.show()"
   ]
  },
  {
   "cell_type": "markdown",
   "metadata": {},
   "source": [
    "### 2.2 Data Transformations"
   ]
  },
  {
   "cell_type": "code",
   "execution_count": null,
   "metadata": {},
   "outputs": [],
   "source": [
    "import yfinance as yf\n",
    "import pandas as pd\n",
    "import numpy as np\n",
    "\n",
    "btc = yf.download('BTC-USD', period=\"max\")['Close']\n",
    "gold = yf.download('GC=F', period=\"max\")['Close'] \n",
    "sp500 = yf.download('^GSPC', period=\"max\")['Close']\n",
    "\n",
    "data = pd.DataFrame({\n",
    "    'BTC': btc,\n",
    "    'GOLD': gold,\n",
    "    'SP500': sp500\n",
    "})\n",
    "\n",
    "# Drop NaN\n",
    "data.dropna(inplace=True)\n",
    "\n",
    "# Transform observations\n",
    "returns = np.log(data / data.shift(1))\n",
    "# Drop NaN\n",
    "returns.dropna(inplace=True)\n",
    "\n",
    "print(returns)"
   ]
  },
  {
   "cell_type": "markdown",
   "metadata": {},
   "source": [
    "### 2.3 Data Analysis"
   ]
  },
  {
   "cell_type": "code",
   "execution_count": null,
   "metadata": {},
   "outputs": [],
   "source": [
    "import statsmodels.api as sm\n",
    "\n",
    "\n",
    "X = sm.add_constant(returns['SP500'])  # Market returns\n",
    "y = returns['BTC']  # Bitcoin returns\n",
    "\n",
    "# Perform OLS regression\n",
    "model = sm.OLS(y, X).fit()\n",
    "\n",
    "model_summary = model.summary()\n",
    "print(model_summary)"
   ]
  },
  {
   "cell_type": "markdown",
   "metadata": {},
   "source": [
    "#### Analysis\n",
    "**1. Regression results:**\n",
    "\n",
    "- **Alpha (const):** The coefficient for the constant is 0.0017 with a standard error of 0.001. The t-statistic is 1.857, and the p-value is 0.063. \n",
    "\n",
    "- **Beta (SP500):** The beta coefficient is 0.8298 with a standard error of 0.078. The t-statistic is 10.644, which is highly significant with a p-value effectively at 0.000. \n",
    "\n",
    "- **R-squared:** The R-squared value is 0.046, and the adjusted R-squared is also 0.046. \n",
    "\n",
    "- **F-statistic:** The F-statistic is 113.3 and the associated p-value is 7.19e-26, suggesting that the model is statistically significant.\n",
    "\n",
    "**2. Interpretation in the context of CAPM:**\n",
    "\n",
    "- **Beta Interpretation:** A beta of less than 1 indicates that Bitcoin is less volatile than the broader market, which is somewhat contrary to general market observations, as Bitcoin is often considered more volatile. This could be due to a variety of factors, including the time frame of the data, specific market events, or the nature of the investors involved.\n",
    "\n",
    "- **Alpha Interpretation:** The alpha is not statistically significant at the 5% level, but it is borderline significant. This means that there isn't strong evidence that Bitcoin's returns are significantly different from what CAPM would predict given its systematic risk, as measured by beta. However, the positive alpha points to a tendency for Bitcoin to outperform the expectations of CAPM during the period analyzed.\n",
    "\n",
    "- **Overall Model Interpretation:** The low R-squared suggests that market returns are not a strong predictor of Bitcoin returns. This is consistent with the understanding that Bitcoin's price movements are driven by a range of factors that are not necessarily linked to traditional equity markets."
   ]
  },
  {
   "cell_type": "markdown",
   "metadata": {},
   "source": [
    "### 3.1 High Level Description of FinTech Firm"
   ]
  },
  {
   "cell_type": "markdown",
   "metadata": {},
   "source": [
    "Sarunas' FinTech firm is structured as a tech-driven enterprise offering loan services to individuals. The project is modular, with four primary structural components that interact to automate and streamline the loan application and approval process. Here’s a mechanical description of each part and their interactions:\n",
    "\n",
    "1. **Streamlit UI Service**:\n",
    "   - **Purpose**: This is the user interface where potential customers can submit their loan applications. The UI is designed to be intuitive and accessible, allowing users to input their personal and financial information securely.\n",
    "   - **Interaction**: Upon submission, the application data is sent to the Statistical Model for processing.\n",
    "   - **Achievement**: It serves as the entry point for customers, simplifying the application process and enhancing user experience.\n",
    "\n",
    "2. **Statistical Model Service**:\n",
    "   - **Purpose**: This service hosts a machine learning model, specifically a logistic regression model, that evaluates the risk associated with a loan application. Logistic regression is chosen for its ability to provide probabilities that an event will happen (e.g., loan default) based on input variables from the application.\n",
    "   - **Interaction**: It receives data from the Streamlit UI, processes it, and then sends the result to the Postgres Database for storage. It may also interact with JupyterLab for model training and analysis.\n",
    "   - **Achievement**: By predicting the likelihood of loan repayment, it automates the decision-making process, thus allowing the firm to issue loans with an informed understanding of the risk involved.\n",
    "\n",
    "3. **Postgres Database**:\n",
    "   - **Purpose**: This database is where all the requests and their corresponding responses are stored.\n",
    "   - **Interaction**: The database receives processed data from the Statistical Model and serves as a repository for storing and retrieving application data.\n",
    "   - **Achievement**: It ensures that all transaction data is securely managed and can be accessed for reporting, auditing, or further analysis.\n",
    "\n",
    "4. **JupyterLab Service**:\n",
    "   - **Purpose**: JupyterLab is used for data analysis and exploration. It allows data scientists and analysts to work with the data, build models, and test hypotheses in an interactive environment.\n",
    "   - **Interaction**: It can access the Postgres Database to retrieve data for analysis and is the environment where the logistic regression model is likely developed and refined before being deployed to the Statistical Model service.\n",
    "   - **Achievement**: It is the research and development component, providing insights that drive business strategy and improve the model's performance.\n",
    "\n",
    "**Logistic Regression** is a statistical method for predicting binary outcomes. It’s useful for scenarios where the outcome is dichotomous (e.g., loan default: yes or no). Its output is a probability that the given input point belongs to a certain class, which translates well into risk assessment for loan approval. This technique is useful because it is relatively simple, interpretable, and efficient for binary classification problems. In the context of Sarunas' FinTech firm, logistic regression helps in making informed loan approval decisions by assessing the probability of a borrower defaulting on a loan."
   ]
  },
  {
   "cell_type": "markdown",
   "metadata": {},
   "source": []
  }
 ],
 "metadata": {
  "kernelspec": {
   "display_name": "Python 3",
   "language": "python",
   "name": "python3"
  },
  "language_info": {
   "codemirror_mode": {
    "name": "ipython",
    "version": 3
   },
   "file_extension": ".py",
   "mimetype": "text/x-python",
   "name": "python",
   "nbconvert_exporter": "python",
   "pygments_lexer": "ipython3",
   "version": "3.9.16"
  }
 },
 "nbformat": 4,
 "nbformat_minor": 2
}
